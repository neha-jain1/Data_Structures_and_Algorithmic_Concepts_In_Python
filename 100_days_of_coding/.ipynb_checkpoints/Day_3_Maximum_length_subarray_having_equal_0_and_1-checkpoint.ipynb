{
 "cells": [
  {
   "cell_type": "markdown",
   "metadata": {},
   "source": [
    "## Question 3"
   ]
  },
  {
   "cell_type": "markdown",
   "metadata": {},
   "source": [
    "### Given an array of 0s and 1s. Find the length of the largest subarray with equal number of 0s and 1s."
   ]
  },
  {
   "cell_type": "code",
   "execution_count": 1,
   "metadata": {},
   "outputs": [],
   "source": [
    "# Input:\n",
    "# N = 4\n",
    "# A[] = {0,1,0,1}\n",
    "# Output: 4\n",
    "# Explanation: The array from index [0...3]\n",
    "# contains equal number of 0's and 1's.\n",
    "# Thus maximum length of subarray having\n",
    "# equal number of 0's and 1's is 4."
   ]
  },
  {
   "cell_type": "markdown",
   "metadata": {},
   "source": [
    "### Code"
   ]
  },
  {
   "cell_type": "code",
   "execution_count": 2,
   "metadata": {},
   "outputs": [],
   "source": [
    "def maxLen(arr, N):\n",
    "    # code here\n",
    "    curr_sum_arr =[ 0 for i in range(0,N)]\n",
    "    index = [i for i in range(0,N)]\n",
    "    sum_map = {}\n",
    "    max_len = 0 \n",
    "    curr_sum = 0\n",
    "    for i in range(0,N):\n",
    "        if(arr[i]==0):\n",
    "            curr_sum -=1\n",
    "        else:\n",
    "            curr_sum +=1\n",
    "            \n",
    "        if(curr_sum==0):\n",
    "            subarr_len = i - 0 +1\n",
    "            if(subarr_len > max_len):\n",
    "                max_len = subarr_len\n",
    "            \n",
    "        elif(curr_sum in sum_map):\n",
    "            subarr_len = i - sum_map[curr_sum]\n",
    "            if(subarr_len > max_len):\n",
    "                max_len = subarr_len\n",
    "        else:\n",
    "            sum_map[curr_sum] = i\n",
    "            \n",
    "        curr_sum_arr[i] = curr_sum\n",
    "    if(curr_sum ==0):\n",
    "        return N\n",
    "    return max_len\n"
   ]
  },
  {
   "cell_type": "code",
   "execution_count": 3,
   "metadata": {},
   "outputs": [
    {
     "name": "stdout",
     "output_type": "stream",
     "text": [
      "4\n"
     ]
    }
   ],
   "source": [
    "arr = [0,1,0,1]\n",
    "N = len(arr)\n",
    "print(maxLen(arr,N))"
   ]
  },
  {
   "cell_type": "code",
   "execution_count": null,
   "metadata": {},
   "outputs": [],
   "source": []
  }
 ],
 "metadata": {
  "kernelspec": {
   "display_name": "Python 3",
   "language": "python",
   "name": "python3"
  },
  "language_info": {
   "codemirror_mode": {
    "name": "ipython",
    "version": 3
   },
   "file_extension": ".py",
   "mimetype": "text/x-python",
   "name": "python",
   "nbconvert_exporter": "python",
   "pygments_lexer": "ipython3",
   "version": "3.7.4"
  }
 },
 "nbformat": 4,
 "nbformat_minor": 2
}
