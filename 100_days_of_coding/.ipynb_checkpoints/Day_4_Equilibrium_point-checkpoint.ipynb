{
 "cells": [
  {
   "cell_type": "markdown",
   "metadata": {},
   "source": [
    "## Question 4"
   ]
  },
  {
   "cell_type": "markdown",
   "metadata": {},
   "source": [
    "### Given an array A of N positive numbers. The task is to find the position where equilibrium first occurs in the ### array. Equilibrium position in an array is a position such that the sum of elements before it is equal to the ### sum of elements after it."
   ]
  },
  {
   "cell_type": "code",
   "execution_count": 1,
   "metadata": {},
   "outputs": [],
   "source": [
    "# Input:\n",
    "# 2\n",
    "# 1\n",
    "# 1\n",
    "# 5\n",
    "# 1 3 5 2 2\n",
    "\n",
    "# Output:\n",
    "# 1\n",
    "# 3"
   ]
  },
  {
   "cell_type": "markdown",
   "metadata": {},
   "source": [
    "### Code"
   ]
  },
  {
   "cell_type": "code",
   "execution_count": 2,
   "metadata": {},
   "outputs": [
    {
     "name": "stdout",
     "output_type": "stream",
     "text": [
      "1\n",
      "5\n",
      "1 3 5 2 2\n",
      "3\n"
     ]
    }
   ],
   "source": [
    "t = int(input())\n",
    "while(t>0):\n",
    "    \n",
    "    n = int(input())\n",
    "    arr = list(map(int,input().strip(' ').split(' ')))\n",
    "    if(n==1):\n",
    "        print(1)\n",
    "        t-=1\n",
    "        continue\n",
    "    start = 1\n",
    "    end = n-2\n",
    "    sum_start = arr[0]\n",
    "    sum_end = arr[n-1]\n",
    "    k =0\n",
    "    while(start <= end):\n",
    "        if(sum_start == sum_end and start==end):\n",
    "            print(start +1)\n",
    "            k=1\n",
    "            break\n",
    "        if(sum_start < sum_end):\n",
    "            sum_start += arr[start]\n",
    "            start+=1\n",
    "        else:\n",
    "            sum_end += arr[end]\n",
    "            end -=1\n",
    "    if(k==0):\n",
    "        print(-1)\n",
    "            \n",
    "    t-=1"
   ]
  },
  {
   "cell_type": "code",
   "execution_count": null,
   "metadata": {},
   "outputs": [],
   "source": []
  }
 ],
 "metadata": {
  "kernelspec": {
   "display_name": "Python 3",
   "language": "python",
   "name": "python3"
  },
  "language_info": {
   "codemirror_mode": {
    "name": "ipython",
    "version": 3
   },
   "file_extension": ".py",
   "mimetype": "text/x-python",
   "name": "python",
   "nbconvert_exporter": "python",
   "pygments_lexer": "ipython3",
   "version": "3.7.4"
  }
 },
 "nbformat": 4,
 "nbformat_minor": 2
}
