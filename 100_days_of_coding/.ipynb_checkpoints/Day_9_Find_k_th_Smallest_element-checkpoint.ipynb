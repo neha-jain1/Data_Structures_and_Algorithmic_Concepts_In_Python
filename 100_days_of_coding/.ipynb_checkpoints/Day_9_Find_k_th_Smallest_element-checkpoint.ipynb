{
 "cells": [
  {
   "cell_type": "markdown",
   "metadata": {},
   "source": [
    "## Question 9"
   ]
  },
  {
   "cell_type": "markdown",
   "metadata": {},
   "source": [
    "### Given an array arr[] of N positive integers and a number K. The task is to find the kth smallest element in the array."
   ]
  },
  {
   "cell_type": "code",
   "execution_count": 1,
   "metadata": {},
   "outputs": [],
   "source": [
    "# Input: \n",
    "# 5 3\n",
    "# 3 5 4 2 9\n",
    "\n",
    "# Output: \n",
    "# 4\n",
    "\n",
    "# Explanation: \n",
    "# Third smallest element in the array is 4."
   ]
  },
  {
   "cell_type": "markdown",
   "metadata": {},
   "source": [
    "### Code"
   ]
  },
  {
   "cell_type": "markdown",
   "metadata": {},
   "source": [
    "### The approach used is Heaps "
   ]
  },
  {
   "cell_type": "code",
   "execution_count": 2,
   "metadata": {},
   "outputs": [
    {
     "name": "stdout",
     "output_type": "stream",
     "text": [
      "5 3\n",
      "3 5 4 2 9\n",
      "k th smallest element is :  4\n"
     ]
    }
   ],
   "source": [
    "import heapq\n",
    "\n",
    "n,k = list(map(int,map(int,input().strip(' ').split(' '))))\n",
    "arr = list(map(int,map(int,input().strip(' ').split(' '))))\n",
    "\n",
    "heapq.heapify(arr)\n",
    "\n",
    "res = heapq.nsmallest(k,arr)\n",
    "print(\"k th smallest element is : \",res[-1]) "
   ]
  },
  {
   "cell_type": "code",
   "execution_count": null,
   "metadata": {},
   "outputs": [],
   "source": []
  }
 ],
 "metadata": {
  "kernelspec": {
   "display_name": "Python 3",
   "language": "python",
   "name": "python3"
  },
  "language_info": {
   "codemirror_mode": {
    "name": "ipython",
    "version": 3
   },
   "file_extension": ".py",
   "mimetype": "text/x-python",
   "name": "python",
   "nbconvert_exporter": "python",
   "pygments_lexer": "ipython3",
   "version": "3.7.4"
  }
 },
 "nbformat": 4,
 "nbformat_minor": 2
}
