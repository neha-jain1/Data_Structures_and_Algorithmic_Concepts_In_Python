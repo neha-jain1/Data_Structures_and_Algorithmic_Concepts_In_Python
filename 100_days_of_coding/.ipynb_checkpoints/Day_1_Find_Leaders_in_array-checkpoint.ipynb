{
 "cells": [
  {
   "cell_type": "markdown",
   "metadata": {},
   "source": [
    "## Question 1"
   ]
  },
  {
   "cell_type": "markdown",
   "metadata": {},
   "source": [
    "### Given an array of positive integers. Your task is to find the leaders in the array.\n",
    "### Note: An element of array is leader if it is greater than or equal to all the elements to its right side.\n",
    "###    Also, the rightmost element is always a leader. "
   ]
  },
  {
   "cell_type": "code",
   "execution_count": 2,
   "metadata": {},
   "outputs": [],
   "source": [
    "### SAMPLE TEST CASES \n",
    "# Input:\n",
    "# 3\n",
    "# 6\n",
    "# 16 17 4 3 5 2\n",
    "# 5\n",
    "# 1 2 3 4 0\n",
    "# 5\n",
    "# 7 4 5 7 3\n",
    "# Output:\n",
    "# 17 5 2\n",
    "# 4 0\n",
    "# 7 7 3"
   ]
  },
  {
   "cell_type": "markdown",
   "metadata": {},
   "source": [
    "### Code "
   ]
  },
  {
   "cell_type": "code",
   "execution_count": 3,
   "metadata": {},
   "outputs": [
    {
     "name": "stdout",
     "output_type": "stream",
     "text": [
      "1\n",
      "5\n",
      "1 2 3 4 0\n",
      "4 0\n"
     ]
    }
   ],
   "source": [
    "t = int(input())\n",
    "while(t>0):\n",
    "    n = int(input())\n",
    "    arr = list(map(int, input().strip(' ').split(' ')))\n",
    "    \n",
    "    ## Brute Force Approach  -- complexity O(n^2)\n",
    "    # res = []\n",
    "    # for i in range(0,n-1):\n",
    "    #     k = 0\n",
    "    #     for j in range(i+1,n):\n",
    "    #         if(arr[j]>arr[i]):\n",
    "    #             k = 1\n",
    "    #             break\n",
    "    #     if(k == 0):\n",
    "    #         res.append(arr[i])\n",
    "    # res.append(arr[n-1])\n",
    "    # print(' '.join(map(str,res)))\n",
    "    \n",
    "    ## Efficient Approach --complexity O(n)\n",
    "    res = []\n",
    "    res = [arr[n-1]] # Since last element will always be a leader\n",
    "    max_ele = arr[n-1]\n",
    "    for i in range(n-2,-1,-1):\n",
    "        if(arr[i]>=max_ele):\n",
    "            res.append(arr[i])\n",
    "            max_ele = arr[i]\n",
    "    \n",
    "    print(' '.join(map(str,res[::-1])))\n",
    "    \n",
    "    t-=1\n",
    "    "
   ]
  },
  {
   "cell_type": "code",
   "execution_count": null,
   "metadata": {},
   "outputs": [],
   "source": []
  }
 ],
 "metadata": {
  "kernelspec": {
   "display_name": "Python 3",
   "language": "python",
   "name": "python3"
  },
  "language_info": {
   "codemirror_mode": {
    "name": "ipython",
    "version": 3
   },
   "file_extension": ".py",
   "mimetype": "text/x-python",
   "name": "python",
   "nbconvert_exporter": "python",
   "pygments_lexer": "ipython3",
   "version": "3.7.4"
  }
 },
 "nbformat": 4,
 "nbformat_minor": 2
}
