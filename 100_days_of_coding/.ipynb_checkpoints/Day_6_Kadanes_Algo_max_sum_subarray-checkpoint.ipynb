{
 "cells": [
  {
   "cell_type": "markdown",
   "metadata": {},
   "source": [
    "## Question 6"
   ]
  },
  {
   "cell_type": "markdown",
   "metadata": {},
   "source": [
    "### Given an array arr of N integers. Find the contiguous sub-array with maximum sum."
   ]
  },
  {
   "cell_type": "code",
   "execution_count": 1,
   "metadata": {},
   "outputs": [],
   "source": [
    "# Input\n",
    "# 2\n",
    "# 5\n",
    "# 1 2 3 -2 5\n",
    "# 4\n",
    "# -1 -2 -3 -4\n",
    "# Output\n",
    "# 9\n",
    "# -1"
   ]
  },
  {
   "cell_type": "markdown",
   "metadata": {},
   "source": [
    "### Code"
   ]
  },
  {
   "cell_type": "code",
   "execution_count": 3,
   "metadata": {},
   "outputs": [
    {
     "name": "stdout",
     "output_type": "stream",
     "text": [
      "1 \n",
      "5\n",
      "1 2 3 -2 5\n",
      "Maximum Sum :  9\n"
     ]
    }
   ],
   "source": [
    "import sys\n",
    "t = int(input())\n",
    "while(t>0):\n",
    "    n =int(input())\n",
    "    arr = list(map(int,input().strip(' ').split(' ')))\n",
    "    max_so_far = -(sys.maxsize)\n",
    "    max_end_so_far = 0\n",
    "\n",
    "    for i in range(0,n):\n",
    "        max_end_so_far += arr[i]\n",
    "        if(max_end_so_far < arr[i]):\n",
    "            max_end_so_far = arr[i]\n",
    "    \n",
    "            \n",
    "        if(max_so_far < max_end_so_far):\n",
    "            max_so_far = max_end_so_far\n",
    "\n",
    "\n",
    "    print(\"Maximum Sum : \",max_so_far)\n",
    "    t-=1"
   ]
  },
  {
   "cell_type": "code",
   "execution_count": null,
   "metadata": {},
   "outputs": [],
   "source": []
  }
 ],
 "metadata": {
  "kernelspec": {
   "display_name": "Python 3",
   "language": "python",
   "name": "python3"
  },
  "language_info": {
   "codemirror_mode": {
    "name": "ipython",
    "version": 3
   },
   "file_extension": ".py",
   "mimetype": "text/x-python",
   "name": "python",
   "nbconvert_exporter": "python",
   "pygments_lexer": "ipython3",
   "version": "3.7.4"
  }
 },
 "nbformat": 4,
 "nbformat_minor": 2
}
