{
 "cells": [
  {
   "cell_type": "markdown",
   "metadata": {},
   "source": [
    "## Question 2"
   ]
  },
  {
   "cell_type": "markdown",
   "metadata": {},
   "source": [
    "### Given an unsorted array A of size N of non-negative integers, find a continuous sub-array which adds to a given number S."
   ]
  },
  {
   "cell_type": "code",
   "execution_count": 3,
   "metadata": {},
   "outputs": [],
   "source": [
    "# INPUT\n",
    "# 2\n",
    "# 5 12\n",
    "# 1 2 3 7 5\n",
    "# 10 15\n",
    "# 1 2 3 4 5 6 7 8 9 10\n",
    "\n",
    "# Output:\n",
    "# 2 4\n",
    "# 1 5"
   ]
  },
  {
   "cell_type": "markdown",
   "metadata": {},
   "source": [
    "### Code"
   ]
  },
  {
   "cell_type": "code",
   "execution_count": 16,
   "metadata": {},
   "outputs": [
    {
     "name": "stdout",
     "output_type": "stream",
     "text": [
      "Inside if  38 42\n",
      "38 42\n"
     ]
    }
   ],
   "source": [
    "t = 1\n",
    "while(t>0):\n",
    "    n, val = [42,468]\n",
    "    arr = list(map(int,'135 101 170 125 79 159 163 65 106 146 82 28 162 92 196 143 28 37 192 5 103 154 93 183 22 117 119 96 48 127 172 139 70 113 68 100 36 95 104 12 123 134'.split(' ')))\n",
    "    start = 0 \n",
    "    end = 0 \n",
    "    curr_sum = 0\n",
    "    while(end<=n):        \n",
    "        if(curr_sum > val):\n",
    "            while(curr_sum >val and start<(end-1)):\n",
    "                curr_sum -= arr[start]\n",
    "                start +=1\n",
    "        if(curr_sum ==val ):\n",
    "            print(\"Inside if \",start+1, end)\n",
    "            break\n",
    "#         if(end<n):\n",
    "        curr_sum += arr[end]\n",
    "        end+=1\n",
    "    if(curr_sum == val): \n",
    "        print(start+1, end)\n",
    "    else:\n",
    "        print(-1)\n",
    "    t-=1"
   ]
  },
  {
   "cell_type": "code",
   "execution_count": null,
   "metadata": {},
   "outputs": [],
   "source": []
  }
 ],
 "metadata": {
  "kernelspec": {
   "display_name": "Python 3",
   "language": "python",
   "name": "python3"
  },
  "language_info": {
   "codemirror_mode": {
    "name": "ipython",
    "version": 3
   },
   "file_extension": ".py",
   "mimetype": "text/x-python",
   "name": "python",
   "nbconvert_exporter": "python",
   "pygments_lexer": "ipython3",
   "version": "3.7.4"
  }
 },
 "nbformat": 4,
 "nbformat_minor": 2
}
