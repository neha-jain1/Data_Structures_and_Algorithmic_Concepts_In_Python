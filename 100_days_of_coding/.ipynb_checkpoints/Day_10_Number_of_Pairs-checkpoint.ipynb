{
 "cells": [
  {
   "cell_type": "markdown",
   "metadata": {},
   "source": [
    "## Question 10"
   ]
  },
  {
   "cell_type": "markdown",
   "metadata": {},
   "source": [
    "### Given two arrays X[] and Y[] of size M and N respectively. Find number of pairs such that xy > yx where x is an element from X[] and y is an element from Y[]."
   ]
  },
  {
   "cell_type": "code",
   "execution_count": 1,
   "metadata": {},
   "outputs": [],
   "source": [
    "# Input:\n",
    "# M = 3, N = 2\n",
    "# X[] = {2, 1, 6}, Y = {1, 5}\n",
    "# Output: 3\n",
    "# Explanation: There are total 3 pairs \n",
    "# where pow(x, y) is greater than pow(y, x) \n",
    "# Pairs are (2, 1), (2, 5) and (6, 1)."
   ]
  },
  {
   "cell_type": "markdown",
   "metadata": {},
   "source": [
    "### Code"
   ]
  },
  {
   "cell_type": "code",
   "execution_count": 4,
   "metadata": {},
   "outputs": [],
   "source": [
    "import bisect"
   ]
  },
  {
   "cell_type": "code",
   "execution_count": 5,
   "metadata": {},
   "outputs": [],
   "source": [
    "def find_pairs(Y,num,Y_count,n):\n",
    "    if(num==0):\n",
    "        return 0\n",
    "    if(num==1):\n",
    "        return Y_count[0]\n",
    "\n",
    "    idx_greater = bisect.bisect_right(Y,num)\n",
    "    ans = n-idx_greater\n",
    "    ans+= (Y_count[0] + Y_count[1])\n",
    "    if(num ==2):\n",
    "        ans -= (Y_count[3] +Y_count[4])\n",
    "    if(num ==3):\n",
    "        ans += Y_count[2]\n",
    "    return ans\n"
   ]
  },
  {
   "cell_type": "code",
   "execution_count": 8,
   "metadata": {},
   "outputs": [],
   "source": [
    "def countPairs(X, Y, m, n):\n",
    "        X.sort()\n",
    "        Y.sort()\n",
    "        pairs =0\n",
    "        max_ele = max(Y)\n",
    "        Y_count = [0 for i in range(0,max_ele+1)]\n",
    "        for i in Y:\n",
    "            Y_count[i] +=1\n",
    "        \n",
    "        for i in X:\n",
    "            pairs += find_pairs(Y,i,Y_count,n)\n",
    "        return pairs"
   ]
  },
  {
   "cell_type": "code",
   "execution_count": 9,
   "metadata": {},
   "outputs": [
    {
     "name": "stdout",
     "output_type": "stream",
     "text": [
      "Total Pairs found are :  3\n"
     ]
    }
   ],
   "source": [
    "X = [2,1,6]\n",
    "Y = [1,5]\n",
    "m,n = 3,2\n",
    "result = countPairs(X, Y, m, n)\n",
    "print(\"Total Pairs found are : \",result )"
   ]
  },
  {
   "cell_type": "code",
   "execution_count": null,
   "metadata": {},
   "outputs": [],
   "source": []
  }
 ],
 "metadata": {
  "kernelspec": {
   "display_name": "Python 3",
   "language": "python",
   "name": "python3"
  },
  "language_info": {
   "codemirror_mode": {
    "name": "ipython",
    "version": 3
   },
   "file_extension": ".py",
   "mimetype": "text/x-python",
   "name": "python",
   "nbconvert_exporter": "python",
   "pygments_lexer": "ipython3",
   "version": "3.7.4"
  }
 },
 "nbformat": 4,
 "nbformat_minor": 2
}
