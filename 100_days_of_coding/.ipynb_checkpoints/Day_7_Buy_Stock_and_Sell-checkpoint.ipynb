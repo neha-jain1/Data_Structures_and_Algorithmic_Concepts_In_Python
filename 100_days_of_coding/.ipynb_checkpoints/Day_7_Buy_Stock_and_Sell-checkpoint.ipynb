{
 "cells": [
  {
   "cell_type": "markdown",
   "metadata": {},
   "source": [
    "## Question 7"
   ]
  },
  {
   "cell_type": "markdown",
   "metadata": {},
   "source": [
    "### The cost of stock on each day is given in an array A[] of size N. Find all the days on which you buy and sell ### the stock so that in between those days your profit is maximum."
   ]
  },
  {
   "cell_type": "code",
   "execution_count": 1,
   "metadata": {},
   "outputs": [],
   "source": [
    "# Input:\n",
    "# 3\n",
    "# 7\n",
    "# 100 180 260 310 40 535 695\n",
    "# 4\n",
    "# 100 50 30 20\n",
    "# 10\n",
    "# 23 13 25 29 33 19 34 45 65 67\n",
    "\n",
    "# Output:\n",
    "# (0 3) (4 6)\n",
    "# No Profit\n",
    "# (1 4) (5 9)"
   ]
  },
  {
   "cell_type": "markdown",
   "metadata": {},
   "source": [
    "### Code"
   ]
  },
  {
   "cell_type": "code",
   "execution_count": 2,
   "metadata": {},
   "outputs": [
    {
     "name": "stdout",
     "output_type": "stream",
     "text": [
      "1\n",
      "7\n",
      "100 180 260 310 40 535 695\n",
      "Results are : \n",
      "(0 3) (4 6)\n"
     ]
    }
   ],
   "source": [
    "t = int(input())\n",
    "while(t>0):\n",
    "    n = int(input())\n",
    "    arr = list(map(int, input().strip(' ').split(' ')))\n",
    "    local_minima = []\n",
    "    local_maxima = []\n",
    "    find_local_min , find_local_max = 1,0\n",
    "    for i in range(0,n-1):\n",
    "        if(find_local_min):\n",
    "            if(arr[i]<arr[i+1]):\n",
    "                local_minima.append(i)\n",
    "                find_local_max = 1\n",
    "                find_local_min = 0\n",
    "        else:\n",
    "            if(arr[i]>arr[i+1]):\n",
    "                local_maxima.append(i)\n",
    "                find_local_max = 0\n",
    "                find_local_min = 1\n",
    "    pairs = []\n",
    "    if(len(local_maxima)<len(local_minima)):\n",
    "        local_maxima.append(n-1)\n",
    "    \n",
    "    if(len(local_minima)==0):\n",
    "        print(\"No Profit\")\n",
    "    else:\n",
    "        for i in range(0,len(local_minima)):\n",
    "            pairs.append(\"(\"+ str(local_minima[i])+\" \" + str(local_maxima[i])+\")\")\n",
    "        print(\"Results are : \")\n",
    "        print(\" \".join(map(str,pairs)))\n",
    "            \n",
    "    t-=1"
   ]
  },
  {
   "cell_type": "code",
   "execution_count": null,
   "metadata": {},
   "outputs": [],
   "source": []
  }
 ],
 "metadata": {
  "kernelspec": {
   "display_name": "Python 3",
   "language": "python",
   "name": "python3"
  },
  "language_info": {
   "codemirror_mode": {
    "name": "ipython",
    "version": 3
   },
   "file_extension": ".py",
   "mimetype": "text/x-python",
   "name": "python",
   "nbconvert_exporter": "python",
   "pygments_lexer": "ipython3",
   "version": "3.7.4"
  }
 },
 "nbformat": 4,
 "nbformat_minor": 2
}
