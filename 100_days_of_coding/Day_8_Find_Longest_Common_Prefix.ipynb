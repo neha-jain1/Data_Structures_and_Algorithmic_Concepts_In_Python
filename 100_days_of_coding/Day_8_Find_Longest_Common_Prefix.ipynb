{
 "cells": [
  {
   "cell_type": "markdown",
   "metadata": {},
   "source": [
    "## Question 8"
   ]
  },
  {
   "cell_type": "markdown",
   "metadata": {},
   "source": [
    "### Given a array of N strings, find the longest common prefix among all strings present in the array."
   ]
  },
  {
   "cell_type": "code",
   "execution_count": 1,
   "metadata": {},
   "outputs": [],
   "source": [
    "# Input:\n",
    "# 2\n",
    "# 4\n",
    "# geeksforgeeks geeks geek geezer\n",
    "# 3\n",
    "# apple ape april\n",
    "\n",
    "# Output:\n",
    "# gee\n",
    "# ap"
   ]
  },
  {
   "cell_type": "markdown",
   "metadata": {},
   "source": [
    "### Code"
   ]
  },
  {
   "cell_type": "code",
   "execution_count": 2,
   "metadata": {},
   "outputs": [],
   "source": [
    "def commonPrefixUtil(str1, str2): \n",
    "    result = \"\"; \n",
    "    n1 = len(str1) \n",
    "    n2 = len(str2) \n",
    "    i = 0\n",
    "    j = 0\n",
    "    while i <= n1 - 1 and j <= n2 - 1: \n",
    "        if (str1[i] != str2[j]): \n",
    "            break\n",
    "        result += str1[i] \n",
    "        i += 1\n",
    "        j += 1\n",
    "    return (result) \n",
    "  \n",
    "def commonPrefix (arr, n): \n",
    "    prefix = arr[0] \n",
    "    for i in range (1, n): \n",
    "        prefix = commonPrefixUtil(prefix, arr[i]) \n",
    "    return (prefix)"
   ]
  },
  {
   "cell_type": "code",
   "execution_count": 4,
   "metadata": {},
   "outputs": [
    {
     "name": "stdout",
     "output_type": "stream",
     "text": [
      "1\n",
      "4\n",
      "geeksforgeeks geeks geek geezer\n",
      "Longest Common Prefix is \n",
      "gee\n"
     ]
    }
   ],
   "source": [
    "t=int(input())\n",
    "while(t>0):\n",
    "    n=int(input())\n",
    "    arr=list(map(str,input().strip(' ').split(' ')))\n",
    "    if(len(arr)==1):\n",
    "        print(arr[0])\n",
    "        t=t-1\n",
    "        continue\n",
    "    res = commonPrefix (arr, n)\n",
    "    print(\"Longest Common Prefix is \")\n",
    "    if(res ==''):\n",
    "        print(-1)\n",
    "    else:\n",
    "        print(res)\n",
    "    \n",
    "    t=t-1"
   ]
  },
  {
   "cell_type": "code",
   "execution_count": null,
   "metadata": {},
   "outputs": [],
   "source": []
  }
 ],
 "metadata": {
  "kernelspec": {
   "display_name": "Python 3",
   "language": "python",
   "name": "python3"
  },
  "language_info": {
   "codemirror_mode": {
    "name": "ipython",
    "version": 3
   },
   "file_extension": ".py",
   "mimetype": "text/x-python",
   "name": "python",
   "nbconvert_exporter": "python",
   "pygments_lexer": "ipython3",
   "version": "3.7.4"
  }
 },
 "nbformat": 4,
 "nbformat_minor": 2
}
