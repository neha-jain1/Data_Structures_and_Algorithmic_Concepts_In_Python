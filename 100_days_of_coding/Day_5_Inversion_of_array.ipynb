{
 "cells": [
  {
   "cell_type": "markdown",
   "metadata": {},
   "source": [
    "## Question 5"
   ]
  },
  {
   "cell_type": "markdown",
   "metadata": {},
   "source": [
    "### Given an array of positive integers. The task is to find inversion count of array.\n",
    "\n",
    "### Inversion Count : For an array, inversion count indicates how far (or close) the array is from being sorted. If array is already sorted then inversion count is 0. If array is sorted in reverse order that inversion count is the maximum. \n",
    "### Formally, two elements a[i] and a[j] form an inversion if a[i] > a[j] and i < j."
   ]
  },
  {
   "cell_type": "code",
   "execution_count": 1,
   "metadata": {},
   "outputs": [],
   "source": [
    "# Input:\n",
    "# 1\n",
    "# 5\n",
    "# 2 4 1 3 5\n",
    "\n",
    "# Output:\n",
    "# 3"
   ]
  },
  {
   "cell_type": "markdown",
   "metadata": {},
   "source": [
    "### Code"
   ]
  },
  {
   "cell_type": "code",
   "execution_count": 2,
   "metadata": {},
   "outputs": [],
   "source": [
    "def final_merge(arr, tmp, left, mid , right):\n",
    "    i,j,k = left, mid, left\n",
    "    inv_count =0\n",
    "    while((i<=(mid-1)) and (j<=right)):\n",
    "        if(arr[i]<= arr[j]):\n",
    "            tmp[k] = arr[i]\n",
    "            k+=1\n",
    "            i+=1\n",
    "        else:\n",
    "            tmp[k] = arr[j]\n",
    "            k+=1\n",
    "            j+=1\n",
    "            inv_count += (mid -i)\n",
    "    while(i<=(mid-1)):\n",
    "        tmp[k] = arr[i]\n",
    "        k+=1\n",
    "        i+=1\n",
    "    while(j<=right):\n",
    "        tmp[k] = arr[j]\n",
    "        k+=1\n",
    "        j+=1\n",
    "    \n",
    "    for p in range(left,right+1):\n",
    "        arr[p] = tmp[p]\n",
    "    return inv_count\n",
    "        "
   ]
  },
  {
   "cell_type": "code",
   "execution_count": 3,
   "metadata": {},
   "outputs": [],
   "source": [
    "\n",
    "def merge_sort(arr, tmp, left, right):\n",
    "    inv_count=0\n",
    "    if(right > left):\n",
    "        mid = (left + right)//2\n",
    "        inv_count = merge_sort(arr, tmp, left, mid)\n",
    "        inv_count += merge_sort(arr, tmp, (mid+1), right)\n",
    "        \n",
    "        inv_count += final_merge(arr, tmp, left, (mid+1), right)\n",
    "    return inv_count"
   ]
  },
  {
   "cell_type": "code",
   "execution_count": 5,
   "metadata": {},
   "outputs": [
    {
     "name": "stdout",
     "output_type": "stream",
     "text": [
      "1\n",
      "5\n",
      "2 4 1 3 5\n",
      "Total Inversion Count :  3\n"
     ]
    }
   ],
   "source": [
    "t = int(input())\n",
    "while(t>0):\n",
    "    n= int(input())\n",
    "    arr = list(map(int,input().strip(' ').split(' ')))\n",
    "    tmp = [0 for i in range(0,n)]\n",
    "    res = merge_sort(arr, tmp, 0 , n-1)\n",
    "    print(\"Total Inversion Count : \",res)\n",
    "    t-=1"
   ]
  },
  {
   "cell_type": "code",
   "execution_count": null,
   "metadata": {},
   "outputs": [],
   "source": []
  }
 ],
 "metadata": {
  "kernelspec": {
   "display_name": "Python 3",
   "language": "python",
   "name": "python3"
  },
  "language_info": {
   "codemirror_mode": {
    "name": "ipython",
    "version": 3
   },
   "file_extension": ".py",
   "mimetype": "text/x-python",
   "name": "python",
   "nbconvert_exporter": "python",
   "pygments_lexer": "ipython3",
   "version": "3.7.4"
  }
 },
 "nbformat": 4,
 "nbformat_minor": 2
}
