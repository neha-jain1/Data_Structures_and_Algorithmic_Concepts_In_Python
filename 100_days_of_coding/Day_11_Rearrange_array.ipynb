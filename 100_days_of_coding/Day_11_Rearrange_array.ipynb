{
 "cells": [
  {
   "cell_type": "markdown",
   "metadata": {},
   "source": [
    "## Question 11"
   ]
  },
  {
   "cell_type": "markdown",
   "metadata": {},
   "source": [
    "### Given a sorted array of positive integers. Your task is to rearrange  the array elements alternatively i.e first element should be max value, second should be min value, third should be second max, fourth should be second min and so on..."
   ]
  },
  {
   "cell_type": "code",
   "execution_count": 1,
   "metadata": {},
   "outputs": [],
   "source": [
    "# Input:\n",
    "# 2\n",
    "# 6\n",
    "# 1 2 3 4 5 6\n",
    "# 11 \n",
    "# 10 20 30 40 50 60 70 80 90 100 110\n",
    "\n",
    "# Output:\n",
    "# 6 1 5 2 4 3\n",
    "# 110 10 100 20 90 30 80 40 70 50 60"
   ]
  },
  {
   "cell_type": "markdown",
   "metadata": {},
   "source": [
    "### Code"
   ]
  },
  {
   "cell_type": "code",
   "execution_count": 2,
   "metadata": {},
   "outputs": [
    {
     "name": "stdout",
     "output_type": "stream",
     "text": [
      "1\n",
      "6\n",
      "1 2 3 4 5 6\n",
      "Rearranged Array is : \n",
      "6 1 5 2 4 3\n"
     ]
    }
   ],
   "source": [
    "t = int(input())\n",
    "while(t>0):\n",
    "    n = int(input())\n",
    "    arr = list(map(int,input().strip(' ').split(' ')))\n",
    "    \n",
    "    max_ind = n-1\n",
    "    min_ind = 0\n",
    "    max_element = arr[n-1]+1\n",
    "    \n",
    "    for i in range(0,n):\n",
    "        if(i%2==0):\n",
    "            arr[i] = arr[i] + arr[max_ind]%max_element * max_element\n",
    "            max_ind-=1\n",
    "        else:\n",
    "            arr[i] = arr[i] + arr[min_ind]% max_element * max_element\n",
    "            min_ind+=1\n",
    "        \n",
    "    for i in range(0,n):\n",
    "        arr[i] = arr[i]//max_element\n",
    "    print(\"Rearranged Array is : \")\n",
    "    print(' '.join(map(str,arr)))\n",
    "    \n",
    "    t-=1"
   ]
  },
  {
   "cell_type": "code",
   "execution_count": null,
   "metadata": {},
   "outputs": [],
   "source": []
  }
 ],
 "metadata": {
  "kernelspec": {
   "display_name": "Python 3",
   "language": "python",
   "name": "python3"
  },
  "language_info": {
   "codemirror_mode": {
    "name": "ipython",
    "version": 3
   },
   "file_extension": ".py",
   "mimetype": "text/x-python",
   "name": "python",
   "nbconvert_exporter": "python",
   "pygments_lexer": "ipython3",
   "version": "3.7.4"
  }
 },
 "nbformat": 4,
 "nbformat_minor": 2
}
